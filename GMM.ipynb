{
 "cells": [
  {
   "cell_type": "code",
   "execution_count": 1,
   "metadata": {},
   "outputs": [],
   "source": [
    "using Plots, DataFrames, Distributions, StatsBase, Statistics, Random, GLM, PrettyTables, Optim, StatsPlots, StatFiles;"
   ]
  },
  {
   "cell_type": "markdown",
   "metadata": {},
   "source": [
    "# 1 Linear Regression Model"
   ]
  },
  {
   "cell_type": "markdown",
   "metadata": {},
   "source": [
    "Assume the linear regression model $ y = \\boldsymbol{x} +u $ , where \\bold{x} and are $K \\times 1$ vectors and $y$ and $u$ are scalars. Suppose the error term $u$ has zero mean conditional on regressors.\n"
   ]
  },
  {
   "cell_type": "markdown",
   "metadata": {},
   "source": [
    "## 1.1 OLS as GMM"
   ]
  },
  {
   "cell_type": "markdown",
   "metadata": {},
   "source": [
    "Conditional Moment:\n",
    "$$ \n",
    "E(u\\ |\\ \\boldsymbol{x})\\ =\\ 0\n",
    "$$\n",
    "Law of Iterated Expectations:\n",
    "$$\n",
    "E(X) = E(E(X\\ |\\ Y))\n",
    "$$\n",
    "$$\n",
    "\\Rightarrow E(\\boldsymbol{x}u) = E(E(\\boldsymbol{x}u\\ |\\ \\boldsymbol{x})) = E(\\boldsymbol{x}\\ E(u\\ |\\ \\boldsymbol{x})) \\Rightarrow[]{E(u\\ |\\ \\boldsymbol{x})\\ =\\ 0} E(\\boldsymbol{x}u) = 0\n",
    "$$"
   ]
  },
  {
   "cell_type": "markdown",
   "metadata": {},
   "source": [
    "So we can define the moments as:\n",
    "$$\n",
    "f(y_t\\ ;\\ \\beta) = \\boldsymbol{x}' \\ u = \\boldsymbol{x}' \\ (y-\\boldsymbol{x}\\beta)\n",
    "$$\n",
    "$$\n",
    "\\Rightarrow g_N(\\beta) = \\frac{1}{N} \\sum_{t=1}^{N} f(y_t\\ ;\\ \\beta) = \\frac{1}{N}(\\boldsymbol{x}' \\ (y-\\boldsymbol{x}\\beta))\n",
    "$$"
   ]
  },
  {
   "cell_type": "markdown",
   "metadata": {},
   "source": [
    "So the minimization problem becomes:\n",
    "$$\n",
    "\\hat{b}_N = argmin\\ g_N(\\beta)' \\ W\\ g_N(\\beta)\n",
    "$$\n",
    "As the problem is just-identified (K parameters & K conditions), we will have:\n",
    "$$\n",
    "\\hat{\\beta}_{GMM} = arg(g_N{\\beta} = 0) \\Rightarrow \\frac{1}{N}(\\boldsymbol{x}' \\ (y-\\boldsymbol{x}\\beta)) = 0 \\Rightarrow \\hat{\\beta}_{GMM} = \\frac{\\boldsymbol{x}'\\ y}{\\boldsymbol{x}'\\ \\boldsymbol{x}} = \\hat{\\beta}_{OLS}\n",
    "$$"
   ]
  },
  {
   "cell_type": "markdown",
   "metadata": {},
   "source": [
    "## 1.2 Additional Moment Restrictions\n",
    " <p dir=\"rtl\"> از آن جا که K پارامتر باید تخمین زده شوند و تعداد ممان‌ها ی صفر موجود 2K می‌باشد، بنابراین امکان استفاده از MM وجود ندارد و باید از GMM استفاده کرد. در واقع در اینجا با پدیده‌ی overidentified بودن پارامترها مواجه هستیم چرا که تعداد معادلات بیشتر از تعداد پارامترها می‌باشد.  </p>\n",
    " \n"
   ]
  },
  {
   "cell_type": "markdown",
   "metadata": {},
   "source": [
    " # 2 Instrumental Variables Regression\n",
    " ## 2.1 Exclusion Restriction\n",
    "<p dir=\"rtl\"> مفروضات مهمی که روی رگرسیون IV تاثیر می‌گذارند این است که مولفه‌ها (z) صرفا باید از طریق x روی y تاثیر بگذارند و نه به صورت مستقیم <br />\n",
    "در واقع به بیانی دیگر $E(u|\\boldsymbol{z})=0 $ <br /> \n",
    "از نظر هندسی، بردارهای u و z باید متعامد با یکدیگر باشند، بنابراین هیچ مؤلفه‌ای از z وجود ندارد که بر Y از طریق u تأثیر بگذارد.  بنابراین برای اینکه asymptotic bias کوچک باشد، باید 𝑐𝑜𝑣(𝑧;𝑢) کوچک و 𝑐𝑜𝑣(𝑧;𝑥) بزرگ باشد.</p>"
   ]
  },
  {
   "cell_type": "markdown",
   "metadata": {},
   "source": [
    "## 2.2 Method of Moment  \n",
    "$$ y=\\boldsymbol{x}\\beta+u\n",
    "$$\n",
    "می‌دانیم:\n",
    "$$\n",
    "E(\\boldsymbol{z^{\\prime}}u)=E(E(\\boldsymbol{z^{\\prime}}u|\\boldsymbol{z}))=E(\\boldsymbol{z^{\\prime}}E(u|\\boldsymbol{z}))\n",
    "$$\n",
    "<br /> \n",
    "<p dir=\"rtl\"> از طرفی برای ممان محدودکننده داریم: </p>\n",
    "$E(u|\\boldsymbol{z})=0$ . Hence: $ E(\\boldsymbol{z^{\\prime}}u)=E(\\boldsymbol{z^{\\prime}}E(u|\\boldsymbol{z}))=0$ <br /> $\\Rightarrow$ if $x=[z_{1}z_{2}\\ldots z_{J-1}z_{J}]\\rightarrow E(z_{1}u)=E(z_{2}u)=\\ldots=E(z_{J-1}u)=E(z_{J}u)=0 $\n",
    "<br /> \n",
    "<p dir=\"rtl\"> با مشخص شدن ممان‌ها می‌توانیم تابع (.)g را مشخص کنیم: </p> \n",
    "\n",
    "$g_{N}(\\beta)=\\frac{1}{N}\\boldsymbol{z^{\\prime}}(y-\\boldsymbol{x}\\beta)=\\frac{1}{N}\\left[\\begin{array}{c}\n",
    "\\sum_{i=1}^{n}z_{i1}(y_{i}-x_{i1}\\beta_{1}-x_{i2}\\beta_{2}-...x_{iK}\\beta_{K})\\\\\n",
    "\\sum_{i=1}^{n}z_{i2}(y_{i}-x_{i1}\\beta_{1}-x_{i2}\\beta_{2}-...x_{iK}\\beta_{K})\\\\\n",
    "\\vdots\\\\\n",
    "\\sum_{i=1}^{n}z_{iJ-1}(y_{i}-x_{i1}\\beta_{1}-x_{i2}\\beta_{2}-...x_{iK}\\beta_{K})\\\\\n",
    "\\sum_{i=1}^{n}z_{iJ}(y_{i}-x_{i1}\\beta_{1}-x_{i2}\\beta_{2}-...x_{iK}\\beta_{K})\n",
    "\\end{array}\\right]$\n",
    "<br />\n",
    "\n",
    "<p dir=\"rtl\">در صورتی که تعداد متغیرها با تعداد پارامترها برابر باشد، یعنی J=K آن گاه جواب معادلات بالا یکتا خواهد بود. </p>\n",
    "\n"
   ]
  },
  {
   "cell_type": "markdown",
   "metadata": {},
   "source": [
    "## 2.3 GMM\n",
    "<p dir=\"rtl\"> اگر تعداد مومان‌ها از تعداد پارامترها بیشتر باشد دستگاه معادلات R معادله و K مجهول داریم که با توجه به بزرگ‌تر بودن R از K معادله جواب نخواهد داشت. </p>\n",
    "\n",
    "$ \\hat{\\beta}_{N}=$argmin $g_{N}^{\\prime}(\\beta)Wg_{N}(\\beta)$\n"
   ]
  },
  {
   "cell_type": "markdown",
   "metadata": {},
   "source": [
    "# 3 Duration of Unemployment and Hazard of Job Finding"
   ]
  },
  {
   "cell_type": "markdown",
   "metadata": {},
   "source": [
    "## 3.1\n",
    "\n",
    "<p dir=\"rtl\"> در این سوال (t)F همان تابع CDF است <p>\n",
    "<p dir=\"rtl\"> و تابع (s)F معادل $1 - Ft$ می‌باشد که تابع Survivor نام دارد و به این معناست که چه مدت زمان طول می‌کشد تا فرد شغل پیدا کند. </p>\n",
    "\n",
    "$E[T] = \\int_{0}^{\\infty} s f(s) ds = s F(s)|_0^\\infty - \\int_{0}^{\\infty} F(s) ds = s F(s)|_0^\\infty - \\int_{0}^{\\infty} (1 - S(s)) ds = s F(s)|_0^\\infty - s F(s)|_0^\\infty +\\int_{0}^{\\infty} S(s) ds = \\int_{0}^{\\infty} S(s) ds$"
   ]
  },
  {
   "cell_type": "markdown",
   "metadata": {},
   "source": [
    "## 3.2\n",
    "\n",
    "<p dir=\"rtl\"> در این قسمت می‌خواهیم ببینیم احتمال آن که فرد قبل از زمان $\\Delta t$ بتواند شغل پیدا کند چقدر است. <p>\n",
    "$P[t \\leq T \\leq t + \\Delta t] = \\frac{P[t \\leq T \\leq t + \\Delta t]}{P(T \\geq t)} = \\frac{F(t + \\Delta t) - F(t)}{1 - F(t)}$\n",
    "\n",
    "$\\lambda(t) = \\lim_{\\Delta t \\to 0} \\frac{P[t \\leq T \\leq t + \\Delta t]}{\\Delta t} = \\frac{\\lim_{\\Delta t \\to 0} \\frac{F(t + \\Delta t) - F(t)}{\\Delta t}}{1 - F(t)} = \\frac{f(t)}{1 - F(t)} = \\frac{f(t)}{S(t)}$\n"
   ]
  },
  {
   "cell_type": "markdown",
   "metadata": {},
   "source": [
    "## 3.3\n",
    "$\\lambda(t|\\textbf{x}) = \\lambda_0(t, \\alpha) \\phi(\\textbf{x} , \\beta)$\n",
    "<p dir=\"rtl\"> این رابطه احتمال نسبی پیدا کردن شغل را نشان می‌دهد. یعنی دو فرد الف و ب اگر بخواهند شغل پیدا کنند با چه احتمالی این اتفاق خواهد افتاد. این رابطه بیان می‌کند که این احتمال نسبی به مدت زمان انتظار بستگی ندارد و تابعی از ویژگی‌های فردی و شخصیتی افراد است. </p>\n",
    "\n",
    "<p dir=\"rtl\"> در رابطهٔ بالا </p>\n",
    "$\\phi(\\textbf{x} , \\beta)$ <br/>\n",
    " ترم مربوط به تاثیر ویژگی‌های فردی، و  \n",
    "<br/>\n",
    "$\\lambda_0(t, \\alpha)$ <br/>\n",
    "ریسک مربوط به زمان پیدا کردن کار است \n",
    "\n",
    "<br/>\n",
    "\n",
    "<p dir=\"rtl\"> پارامترهای $\\alpha$ و $\\beta$ بایستی تخمین زده شوند.  </p>\n",
    "\n",
    "<p dir=\"rtl\"> در رابطهٔ با تخمین پارامترها اگر فرم تابع لاندا را بدانیم می‌توانیم از روش MLE استفاده کنیم در غیر این صورت باید از روش‌های GMM و SMM بهره جوییم. </p>\n"
   ]
  },
  {
   "cell_type": "markdown",
   "metadata": {},
   "source": [
    "# 3.4\n",
    "## 3.4.1\n",
    "$\\lambda_0(t, \\alpha) = \\frac{1}{t ^ \\alpha}$\n",
    "<p dir=\"rtl\">\n",
    "این رابطه نشان‌دهندهٔ آن است که زمان به صورت نمایی بر احتمال پیدا کردن شغل توسط افراد تاثیر می‌گذارد و آلفا میزان شدت این تاثیر‌گذاری را مشخص می‌کند. در واقع هر قدر آلفا بزرگتر باشد میزان اثرگذاری زمان بیشتر می‌شود.\n",
    "احتمال پیدا کردن کار ابتدا با مرور زمان کاهش پیدا می‌کند اما بعد از مدتی با توجه به فرض مساله که بیان کرده است همهٔ افراد تا قبل از ۲۴ ماه کار پیدا خواهند کرد افزایش پیدا خواهد کرد. در واقع اگر لاندا را ریسک پیدا کردن کار در نظر بگیریم می‌توان گفت ابتدا این ریسک افزایش پیدا می‌کند و سپس کاهش پیدا می‌کند. \n",
    "</p>"
   ]
  },
  {
   "cell_type": "markdown",
   "metadata": {},
   "source": [
    "## 3.4.2\n",
    "<p dir=\"rtl\"> در داده‌ها متغیرهای کمکی و مدت‌زمان بیکاری را مشاهده می‌کنیم. اما برای MLE ما به $f(t|x)$ نیاز داریم. ما میتوانیم $\\lambda(t|x) = \\frac{f(t|x)}{(1-F(t|x))}$ را مشخص کنیم اما $f(t|x)$ را نه. </p>"
   ]
  },
  {
   "cell_type": "markdown",
   "metadata": {},
   "source": [
    "## 3.4.3\n",
    "\n",
    "$\\lambda(t|x)=\\frac{1}{t^{\\alpha}}exp[\\beta_0+\\beta_1school_i]$\n",
    "<br>\n",
    "$ln{\\lambda(t|x)}=\\beta_0+\\beta_1school_i-\\alpha . lnt$\n",
    "<br>\n",
    "<p dir=\"rtl\"> \n",
    "ممان‌هایی که نیاز داریم به شرح زیر می‌باشد:<br>\n",
    "$g_1=E[z(ln{\\lambda(t|x)}-\\beta_0-\\beta_1school_i+\\alpha . ln t)]$\n",
    "<br>\n",
    "$g_2=E[t(ln{\\lambda(t|x)}-\\beta_0-\\beta_1school_i+\\alpha . ln t)]$\n",
    "<br>\n",
    "$g_3=E[(ln{\\lambda(t|x)}-\\beta_0-\\beta_1school_i+\\alpha . ln t)]$\n",
    "<br>\n",
    "<br>\n",
    "\n",
    "$g_{N}(\\alpha,\\beta_0,\\beta_1)=\\left[\\begin{array}{c}\n",
    "\\frac{\\sum_{i=1}^{N}1_i[x=0,t=1]}{\\sum_{i=1}^{N}1[x=0]}-\\frac{1}{1^{\\alpha}}exp(\\beta_{0})\\\\\n",
    "\\vdots\\\\\n",
    "\\frac{\\sum_{i=1}^{N}1_i[x=1,t=24]}{\\sum_{i=1}^{N}1[x=1]}-\\frac{1}{24^{\\alpha}}exp(\\beta_{0}+\\beta_{1})\n",
    "\\end{array}\\right]$\n",
    "<br> \n",
    "<br>\n",
    "$\\hat{\\beta}_{N}=$argmin $g_{N}(\\alpha,\\beta_0,\\beta_1)^{\\prime}Wg_{N}(\\alpha,\\beta_0,\\beta_1)$"
   ]
  },
  {
   "cell_type": "markdown",
   "metadata": {},
   "source": [
    "## 3.4.4"
   ]
  },
  {
   "cell_type": "code",
   "execution_count": 6,
   "metadata": {},
   "outputs": [
    {
     "data": {
      "text/html": [
       "<table class=\"data-frame\"><thead><tr><th></th><th>duration</th><th>college</th><th>count</th></tr><tr><th></th><th>Int8?</th><th>Int8?</th><th>Int64</th></tr></thead><tbody><p>48 rows × 3 columns</p><tr><th>1</th><td>1</td><td>0</td><td>9764</td></tr><tr><th>2</th><td>1</td><td>1</td><td>32871</td></tr><tr><th>3</th><td>2</td><td>0</td><td>14986</td></tr><tr><th>4</th><td>2</td><td>1</td><td>9415</td></tr><tr><th>5</th><td>3</td><td>0</td><td>10614</td></tr><tr><th>6</th><td>3</td><td>1</td><td>4536</td></tr><tr><th>7</th><td>4</td><td>0</td><td>8709</td></tr><tr><th>8</th><td>4</td><td>1</td><td>3314</td></tr><tr><th>9</th><td>5</td><td>0</td><td>6777</td></tr><tr><th>10</th><td>5</td><td>1</td><td>2433</td></tr><tr><th>11</th><td>6</td><td>0</td><td>5231</td></tr><tr><th>12</th><td>6</td><td>1</td><td>1697</td></tr><tr><th>13</th><td>7</td><td>0</td><td>4255</td></tr><tr><th>14</th><td>7</td><td>1</td><td>1239</td></tr><tr><th>15</th><td>8</td><td>0</td><td>3608</td></tr><tr><th>16</th><td>8</td><td>1</td><td>1020</td></tr><tr><th>17</th><td>9</td><td>0</td><td>3298</td></tr><tr><th>18</th><td>9</td><td>1</td><td>823</td></tr><tr><th>19</th><td>10</td><td>0</td><td>2705</td></tr><tr><th>20</th><td>10</td><td>1</td><td>639</td></tr><tr><th>21</th><td>11</td><td>0</td><td>2469</td></tr><tr><th>22</th><td>11</td><td>1</td><td>568</td></tr><tr><th>23</th><td>12</td><td>0</td><td>2052</td></tr><tr><th>24</th><td>12</td><td>1</td><td>453</td></tr><tr><th>25</th><td>13</td><td>0</td><td>1782</td></tr><tr><th>26</th><td>13</td><td>1</td><td>390</td></tr><tr><th>27</th><td>14</td><td>0</td><td>1690</td></tr><tr><th>28</th><td>14</td><td>1</td><td>357</td></tr><tr><th>29</th><td>15</td><td>0</td><td>1612</td></tr><tr><th>30</th><td>15</td><td>1</td><td>349</td></tr><tr><th>&vellip;</th><td>&vellip;</td><td>&vellip;</td><td>&vellip;</td></tr></tbody></table>"
      ],
      "text/latex": [
       "\\begin{tabular}{r|ccc}\n",
       "\t& duration & college & count\\\\\n",
       "\t\\hline\n",
       "\t& Int8? & Int8? & Int64\\\\\n",
       "\t\\hline\n",
       "\t1 & 1 & 0 & 9764 \\\\\n",
       "\t2 & 1 & 1 & 32871 \\\\\n",
       "\t3 & 2 & 0 & 14986 \\\\\n",
       "\t4 & 2 & 1 & 9415 \\\\\n",
       "\t5 & 3 & 0 & 10614 \\\\\n",
       "\t6 & 3 & 1 & 4536 \\\\\n",
       "\t7 & 4 & 0 & 8709 \\\\\n",
       "\t8 & 4 & 1 & 3314 \\\\\n",
       "\t9 & 5 & 0 & 6777 \\\\\n",
       "\t10 & 5 & 1 & 2433 \\\\\n",
       "\t11 & 6 & 0 & 5231 \\\\\n",
       "\t12 & 6 & 1 & 1697 \\\\\n",
       "\t13 & 7 & 0 & 4255 \\\\\n",
       "\t14 & 7 & 1 & 1239 \\\\\n",
       "\t15 & 8 & 0 & 3608 \\\\\n",
       "\t16 & 8 & 1 & 1020 \\\\\n",
       "\t17 & 9 & 0 & 3298 \\\\\n",
       "\t18 & 9 & 1 & 823 \\\\\n",
       "\t19 & 10 & 0 & 2705 \\\\\n",
       "\t20 & 10 & 1 & 639 \\\\\n",
       "\t21 & 11 & 0 & 2469 \\\\\n",
       "\t22 & 11 & 1 & 568 \\\\\n",
       "\t23 & 12 & 0 & 2052 \\\\\n",
       "\t24 & 12 & 1 & 453 \\\\\n",
       "\t25 & 13 & 0 & 1782 \\\\\n",
       "\t26 & 13 & 1 & 390 \\\\\n",
       "\t27 & 14 & 0 & 1690 \\\\\n",
       "\t28 & 14 & 1 & 357 \\\\\n",
       "\t29 & 15 & 0 & 1612 \\\\\n",
       "\t30 & 15 & 1 & 349 \\\\\n",
       "\t$\\dots$ & $\\dots$ & $\\dots$ & $\\dots$ \\\\\n",
       "\\end{tabular}\n"
      ],
      "text/plain": [
       "48×3 DataFrame\n",
       "│ Row │ duration │ college │ count │\n",
       "│     │ \u001b[90mInt8?\u001b[39m    │ \u001b[90mInt8?\u001b[39m   │ \u001b[90mInt64\u001b[39m │\n",
       "├─────┼──────────┼─────────┼───────┤\n",
       "│ 1   │ 1        │ 0       │ 9764  │\n",
       "│ 2   │ 1        │ 1       │ 32871 │\n",
       "│ 3   │ 2        │ 0       │ 14986 │\n",
       "│ 4   │ 2        │ 1       │ 9415  │\n",
       "│ 5   │ 3        │ 0       │ 10614 │\n",
       "│ 6   │ 3        │ 1       │ 4536  │\n",
       "│ 7   │ 4        │ 0       │ 8709  │\n",
       "│ 8   │ 4        │ 1       │ 3314  │\n",
       "│ 9   │ 5        │ 0       │ 6777  │\n",
       "│ 10  │ 5        │ 1       │ 2433  │\n",
       "⋮\n",
       "│ 38  │ 19       │ 1       │ 212   │\n",
       "│ 39  │ 20       │ 0       │ 1236  │\n",
       "│ 40  │ 20       │ 1       │ 172   │\n",
       "│ 41  │ 21       │ 0       │ 1129  │\n",
       "│ 42  │ 21       │ 1       │ 183   │\n",
       "│ 43  │ 22       │ 0       │ 1124  │\n",
       "│ 44  │ 22       │ 1       │ 158   │\n",
       "│ 45  │ 23       │ 0       │ 1005  │\n",
       "│ 46  │ 23       │ 1       │ 155   │\n",
       "│ 47  │ 24       │ 0       │ 911   │\n",
       "│ 48  │ 24       │ 1       │ 144   │"
      ]
     },
     "execution_count": 6,
     "metadata": {},
     "output_type": "execute_result"
    }
   ],
   "source": [
    "hazard = DataFrame(load(\"hazard.dta\"))\n",
    "hzrd = hazard[:, [\"duration\", \"college\"]]\n",
    "du = combine(groupby(hzrd, [:duration, :college]), nrow => :count)\n",
    "du0 = filter(:college => x -> x==0, du)\n",
    "du1 = filter(:college => x -> x==1, du)\n",
    "sort!(du)"
   ]
  },
  {
   "cell_type": "code",
   "execution_count": 16,
   "metadata": {},
   "outputs": [
    {
     "name": "stdout",
     "output_type": "stream",
     "text": [
      "m1 = 0.5221442133615931\n",
      "m2 = 0.32691968031085794\n",
      "m3 = 0.1509361063275489\n",
      "m4 = 0.792368161934432\n",
      "m5 = 0.1783667737405369\n",
      "m6 = 0.029265064325031072\n"
     ]
    }
   ],
   "source": [
    "m1 = sum(du0[1:7, :count])/sum(du0[:, :count])\n",
    "m2 = sum(du0[8:16, :count])/sum(du0[:, :count])\n",
    "m3 = sum(du0[17:24, :count])/sum(du0[:, :count])\n",
    "m4 = sum(du1[1:7, :count])/sum(du1[:, :count])\n",
    "m5 = sum(du1[8:16, :count])/sum(du1[:, :count])\n",
    "m6 = sum(du1[17:24, :count])/sum(du1[:, :count])\n",
    "@show m1\n",
    "@show m2\n",
    "@show m3\n",
    "@show m4\n",
    "@show m5\n",
    "@show m6;"
   ]
  },
  {
   "cell_type": "code",
   "execution_count": 17,
   "metadata": {},
   "outputs": [
    {
     "data": {
      "text/plain": [
       "GMM (generic function with 1 method)"
      ]
     },
     "execution_count": 17,
     "metadata": {},
     "output_type": "execute_result"
    }
   ],
   "source": [
    "function GMM(θ)\n",
    "    α = θ[1]\n",
    "    β₀ = θ[2]\n",
    "    β₁ = θ[3]\n",
    "    λ(t, s) = (1/t^α) * exp(β₀ + β₁*s)\n",
    "    gmm = 0.\n",
    "    gmm += (sum(λ.(collect(1:7), 0.)) - m1)^2\n",
    "    gmm += (sum(λ.(collect(8:16), 0.)) - m2)^2\n",
    "    gmm += (sum(λ.(collect(17:24), 0.)) - m3)^2\n",
    "    gmm += (sum(λ.(collect(1:7), 1.)) - m4)^2\n",
    "    gmm += (sum(λ.(collect(8:16), 1.)) - m5)^2\n",
    "    gmm += (sum(λ.(collect(17:24), 1.)) - m6)^2\n",
    "    return gmm\n",
    "end"
   ]
  },
  {
   "cell_type": "code",
   "execution_count": 20,
   "metadata": {},
   "outputs": [
    {
     "data": {
      "text/plain": [
       "3-element Vector{Float64}:\n",
       "  0.9576236651038391\n",
       " -1.5358385411727244\n",
       "  0.2684950677468432"
      ]
     },
     "execution_count": 20,
     "metadata": {},
     "output_type": "execute_result"
    }
   ],
   "source": [
    "optim = optimize(GMM, [0.0, 0.0, 0.0])\n",
    "theta = optim.minimizer"
   ]
  },
  {
   "cell_type": "code",
   "execution_count": 18,
   "metadata": {},
   "outputs": [
    {
     "data": {
      "text/plain": [
       "m6 (generic function with 1 method)"
      ]
     },
     "execution_count": 18,
     "metadata": {},
     "output_type": "execute_result"
    }
   ],
   "source": [
    "m1(x) = pl0 - ((7^(1-x[1]))/(1-x[1])) .* exp(x[2])\n",
    "m2(x) = pl1 - ((7^(1-x[1]))/(1-x[1])) .* exp(x[2] + x[3])\n",
    "m3(x) = plg0 - ((15^(1-x[1]))/(1-x[1])) .* exp(x[2]) + ((7^(1-x[1]))/(1-x[1])) .* exp(x[2])\n",
    "m4(x) = plg1 - ((15^(1-x[1]))/(1-x[1])) .* exp(x[2] + x[3]) + ((7^(1-x[1]))/(1-x[1])) .* exp(x[2] + x[3])\n",
    "m5(x) = pg0 - 1 + ((9^(1-x[1]))/(1-x[1])) .* exp(x[2])\n",
    "m6(x) = pg1 - 1 + ((9^(1-x[1]))/(1-x[1])) .* exp(x[2] + x[3])"
   ]
  },
  {
   "cell_type": "code",
   "execution_count": 25,
   "metadata": {},
   "outputs": [
    {
     "data": {
      "text/plain": [
       "3-element Vector{Float64}:\n",
       "  0.7675716307142222\n",
       " -2.1755831614990115\n",
       "  0.15863252311137205"
      ]
     },
     "execution_count": 25,
     "metadata": {},
     "output_type": "execute_result"
    }
   ],
   "source": [
    "A(x) = m1(x)^2 + m2(x)^2 + m3(x)^2 + m4(x)^2 + m5(x)^2 + m6(x)^2\n",
    "optim = optimize(A, [0.0, 0.0, 0.0])\n",
    "theta = optim.minimizer"
   ]
  },
  {
   "cell_type": "markdown",
   "metadata": {},
   "source": [
    "## 3.4.5\n",
    "$f(t)= \\gamma \\alpha t ^{\\alpha-1} e^{-\\gamma t^\\alpha}$\n",
    "\n",
    "$F(t)= 1-  e^{-\\gamma t^\\alpha}$\n",
    "\n",
    "$S(t)= 1-F(t)=e^{-\\gamma t^\\alpha}$\n",
    "\n",
    "$\\lambda(t)=\\frac{f(t)}{1-F(t)}\\gamma \\alpha t ^{\\alpha-1}$\n",
    "\n",
    "بنابراین پارامترها آلفا و بتا هستند.\n",
    "\n",
    "\n"
   ]
  },
  {
   "cell_type": "code",
   "execution_count": null,
   "metadata": {},
   "outputs": [],
   "source": []
  }
 ],
 "metadata": {
  "kernelspec": {
   "display_name": "Julia 1.6.2",
   "language": "julia",
   "name": "julia-1.6"
  },
  "language_info": {
   "file_extension": ".jl",
   "mimetype": "application/julia",
   "name": "julia",
   "version": "1.6.2"
  }
 },
 "nbformat": 4,
 "nbformat_minor": 2
}
